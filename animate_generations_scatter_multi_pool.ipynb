{
 "cells": [
  {
   "cell_type": "code",
   "execution_count": 1,
   "metadata": {
    "collapsed": false
   },
   "outputs": [],
   "source": [
    "import numpy as np\n",
    "import warnings\n",
    "with warnings.catch_warnings(): \n",
    "    warnings.simplefilter(\"ignore\"); \n",
    "    import matplotlib.pyplot as plt\n",
    "from  matplotlib.animation import FuncAnimation\n",
    "import multiprocessing"
   ]
  },
  {
   "cell_type": "code",
   "execution_count": 2,
   "metadata": {
    "collapsed": true
   },
   "outputs": [],
   "source": [
    "generations    = 50\n",
    "populationSize = 50\n",
    "processes = 4\n",
    "\n",
    "BLK = (0, 0, 0, 1)\n",
    "BLU = (0, 0, 1, 1)\n",
    "GRN = (0, 1, 0, 1)\n",
    "CYN = (0, 1, 1, 1)\n",
    "RED = (1, 0, 0, 1)\n",
    "MGT = (1, 0, 1, 1)\n",
    "YEL = (1, 1, 0, 1)\n",
    "\n",
    "fig, ax = plt.subplots(frameon=False)\n",
    "ax.set_xlim(-0.1,1.1), ax.set_ylim(-0.1,1.1)\n",
    "\n",
    "data = np.zeros(populationSize, dtype=[('fitnessValues', float, 2), ('color', float, 4)])\n",
    "\n",
    "scat = ax.scatter(x=data['fitnessValues'][:,0], y=data['fitnessValues'][:,1], \\\n",
    "                  s=1, lw=5, edgecolors=data['color'])\n",
    "\n",
    "pool = multiprocessing.Pool(processes) # else uses number of cpu cores.\n",
    "\n",
    "def fitness(d):\n",
    "    #dummy function to return fake fitness values without looking at actual data passed in\n",
    "    return [np.random.uniform(0, 1), np.random.uniform(0, 1)]\n",
    "\n",
    "def update(g):\n",
    "     #weird issue where this never works on first run of code, only on subsequent runs..??\n",
    "#     data['fitnessValues'] = pool.map(fitness, data['fitnessValues'])\n",
    "    data['fitnessValues'] = np.random.uniform(0, 1, (populationSize, 2)) \n",
    "    \n",
    "    #adjust color based on data\n",
    "    for i, d in zip(range(populationSize), data['fitnessValues']):\n",
    "        prod = d[0] * d[1]\n",
    "        color = BLK\n",
    "        if prod>0.6:\n",
    "            color = RED\n",
    "        elif prod<0.05:\n",
    "            color = MGT\n",
    "        data['color'][i] = color\n",
    "    \n",
    "    scat.set_offsets(    data['fitnessValues'] )\n",
    "    scat.set_edgecolors( data['color'] )\n",
    "    \n",
    "    ax.set_title('Fitness gen: %6d / %d' %(g+1,generations) )\n",
    "\n",
    "animation = FuncAnimation(fig, update, generations, interval=1, repeat=False)\n",
    "plt.show()"
   ]
  },
  {
   "cell_type": "code",
   "execution_count": null,
   "metadata": {
    "collapsed": true
   },
   "outputs": [],
   "source": []
  }
 ],
 "metadata": {
  "kernelspec": {
   "display_name": "Python 2",
   "language": "python",
   "name": "python2"
  },
  "language_info": {
   "codemirror_mode": {
    "name": "ipython",
    "version": 2
   },
   "file_extension": ".py",
   "mimetype": "text/x-python",
   "name": "python",
   "nbconvert_exporter": "python",
   "pygments_lexer": "ipython2",
   "version": "2.7.10"
  }
 },
 "nbformat": 4,
 "nbformat_minor": 0
}
